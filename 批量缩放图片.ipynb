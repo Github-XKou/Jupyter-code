{
 "cells": [
  {
   "cell_type": "code",
   "execution_count": 21,
   "id": "9bf1141a-b634-4926-9608-b386fb49eea4",
   "metadata": {},
   "outputs": [
    {
     "name": "stderr",
     "output_type": "stream",
     "text": [
      "  0%|                                                                                          | 0/111 [00:00<?, ?it/s]C:\\Users\\Administrator\\AppData\\Local\\Temp\\ipykernel_11548\\3006111531.py:9: DeprecationWarning: ANTIALIAS is deprecated and will be removed in Pillow 10 (2023-07-01). Use Resampling.LANCZOS instead.\n",
      "  new_img = img.resize((width, height), Image.ANTIALIAS)  # 高质量缩放图片\n",
      "100%|████████████████████████████████████████████████████████████████████████████████| 111/111 [00:14<00:00,  7.59it/s]\n"
     ]
    }
   ],
   "source": [
    "from PIL import Image\n",
    "import os\n",
    "import glob\n",
    "from tqdm import tqdm\n",
    "\n",
    "def convertPic(pic, saveDir, width=512, height=512):   # 设置宽为210像素，高为425像素(对应宽5.5cm,高11cm)\n",
    "    try:\n",
    "        img = Image.open(pic)    # 读取图片\n",
    "        new_img = img.resize((width, height), Image.ANTIALIAS)  # 高质量缩放图片\n",
    "        new_img.save(os.path.join(saveDir, os.path.basename(pic)))  # 保存图片\n",
    "    except:\n",
    "        print(\"出错\")\n",
    "        import traceback         # 打印错误\n",
    "        traceback.print_exception()\n",
    "\n",
    "        \n",
    "def main():\n",
    "    picDir = \"Tea_YN原始Dataset/insect_pest/\"#.join(input(\"图片目录：\").split(\"\\\\\")) + \"/\"    # 将复制输入的目录转为合法格式\n",
    "    saveDir = \"222/\"#.join(input(\"保存目录：\").split(\"\\\\\")) + \"/\"\n",
    "    with tqdm(total=len(glob.glob(picDir+\"*.jpeg\"))) as pbar:\n",
    "        for pic in glob.glob(picDir+\"*.jpeg\"):       # 调用glob模块获取该目录下的所有图片\n",
    "            convertPic(pic, saveDir)\n",
    "            pbar.update()\n",
    "\n",
    "main()\n"
   ]
  },
  {
   "cell_type": "code",
   "execution_count": 3,
   "id": "6a46b289-8e36-4b50-9168-ee2786f4f48b",
   "metadata": {},
   "outputs": [
    {
     "name": "stdout",
     "output_type": "stream",
     "text": [
      " 驱动器 C 中的卷没有标签。\n",
      " 卷的序列号是 7A80-61DF\n",
      "\n",
      " C:\\Users\\Administrator\\Desktop 的目录\n",
      "\n",
      "2022/08/31  10:25    <DIR>          .\n",
      "2022/08/31  10:25    <DIR>          ..\n",
      "2022/08/31  10:24    <DIR>          .ipynb_checkpoints\n",
      "2022/08/31  10:22            41,646 20220905内容大纲.pptx\n",
      "2022/08/31  10:25    <DIR>          222\n",
      "2022/08/27  10:29    <DIR>          CT\n",
      "2022/08/29  09:54               844 DenseBiasNet_180DSC.csv\n",
      "2022/08/25  10:07               824 DenseBiasNet_DSC.csv\n",
      "2022/07/07  15:04             2,369 Excel 2016.lnk\n",
      "2022/08/17  15:55             1,331 FurMark.lnk\n",
      "2022/08/29  16:04               829 PotPlayer.lnk\n",
      "2022/08/30  10:19    <DIR>          Tea_YN\n",
      "2022/08/29  11:09     3,022,025,543 Tea_YN Dataset.zip\n",
      "2022/08/27  09:29    <DIR>          Tea_YN 原始Dataset\n",
      "2022/08/30  10:30     3,022,045,125 Tea_YN.zip\n",
      "2022/08/29  10:09               833 TransDBiasNet_adp_96_180_DSC.csv\n",
      "2022/08/29  10:05               841 TransDBiasNet_adp_96_200_DSC.csv\n",
      "2022/08/31  10:24                72 Untitled.ipynb\n",
      "2022/08/23  10:17               844 Visual Studio Code.lnk\n",
      "2022/07/07  15:04             2,395 Word 2016.lnk\n",
      "2022/08/26  13:25               569 阿里云盘.lnk\n",
      "2022/08/29  11:09             1,258 百度网盘.lnk\n",
      "2022/08/30  10:11    <DIR>          病虫害\n",
      "2022/08/26  15:42    <DIR>          发票\n",
      "2022/08/30  10:16             8,151 分类数据集划分.ipynb\n",
      "2022/08/23  09:49               777 微信.lnk\n",
      "2022/08/27  10:32               743 小赛看看 DICOM Viewer.lnk\n",
      "              18 个文件  6,044,134,994 字节\n",
      "               9 个目录 412,981,444,608 可用字节\n"
     ]
    }
   ],
   "source": [
    "ls"
   ]
  },
  {
   "cell_type": "code",
   "execution_count": null,
   "id": "3779a0dd-1955-436c-b457-9d4bb8f065d1",
   "metadata": {},
   "outputs": [],
   "source": []
  }
 ],
 "metadata": {
  "kernelspec": {
   "display_name": "Python 3 (ipykernel)",
   "language": "python",
   "name": "python3"
  },
  "language_info": {
   "codemirror_mode": {
    "name": "ipython",
    "version": 3
   },
   "file_extension": ".py",
   "mimetype": "text/x-python",
   "name": "python",
   "nbconvert_exporter": "python",
   "pygments_lexer": "ipython3",
   "version": "3.8.10"
  }
 },
 "nbformat": 4,
 "nbformat_minor": 5
}
